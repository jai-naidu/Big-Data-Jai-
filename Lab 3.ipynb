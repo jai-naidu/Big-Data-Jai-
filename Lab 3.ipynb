{
 "cells": [
  {
   "cell_type": "markdown",
   "metadata": {
    "collapsed": true
   },
   "source": [
    "# The Analysis of Police Violence in the US as it Pertains to All Races and Specifically African Americans\n",
    "\n",
    "##Jai Naidu\n",
    "##10/20/16\n",
    "##Period 8\n",
    "##Ms. Anderson, Lab 3"
   ]
  },
  {
   "cell_type": "markdown",
   "metadata": {},
   "source": [
    "# Introduction"
   ]
  },
  {
   "cell_type": "markdown",
   "metadata": {},
   "source": [
    "The purpose of this lab is to take data pertaining to police brutality in the US. We were given a csv file that has several different data points for several cities all throughout the US (ex. Violent Crime Rate, Total Population, Total Black Population, Total Hispanic Population, etc.). Using this data I will try to find a correlation between two of these data points (variables) using scatter plots and linear regression. Specifically, I will see if there is a correlation between crime rate and police killings; as well as, African American population and African American deaths by police officers. For the second part of the lab, I will find out in which states someone is most likely to be killed in general, and depending on race."
   ]
  },
  {
   "cell_type": "code",
   "execution_count": 2,
   "metadata": {
    "collapsed": true
   },
   "outputs": [],
   "source": [
    "import scipy.stats as st\n",
    "import matplotlib.pyplot as plt\n",
    "%matplotlib inline"
   ]
  },
  {
   "cell_type": "markdown",
   "metadata": {},
   "source": [
    "# Level 1"
   ]
  },
  {
   "cell_type": "markdown",
   "metadata": {},
   "source": [
    "Does a higher rate of violent crime make it more likely for police to kill people?"
   ]
  },
  {
   "cell_type": "code",
   "execution_count": 3,
   "metadata": {
    "collapsed": false
   },
   "outputs": [],
   "source": [
    "filea = open(\"KilledByPolice.csv\", \"r\", errors = \"ignore\")\n",
    "alist = []\n",
    "for i in filea:\n",
    "    alist.append(i)\n",
    "del alist[0]\n",
    "for j in range (len(alist)):\n",
    "    alist[j] = alist[j].split(\",\")\n",
    "    \n",
    "fileb = open(\"PoliceViolenceCity.csv\", \"r\", errors = \"ignore\")\n",
    "blist = []\n",
    "for i in fileb:\n",
    "    blist.append(i)\n",
    "del blist[0]\n",
    "for j in range (len(blist)):\n",
    "    blist[j] = blist[j].split(\",\")"
   ]
  },
  {
   "cell_type": "code",
   "execution_count": 4,
   "metadata": {
    "collapsed": false
   },
   "outputs": [
    {
     "name": "stdout",
     "output_type": "stream",
     "text": [
      "Crime Rate by State [8.8, 3.2, 8.6, 4.8, 12.3, 4.1, 4.0, 4.6, 13.4, 9.2, 15.9, 7.3, 12.3, 1.8, 5.9, 4.3, 8.8, 2.4, 9.1, 13.3, 4.6, 5.5, 6.6, 6.6, 6.0, 19.9, 7.3, 3.9, 3.2, 5.6, 1.2, 4.6, 2.7, 3.9, 4.8, 1.6, 3.3, 7.7, 9.9, 12.5, 0.5, 2.2, 6.8, 5.3, 12.5, 3.9, 8.4, 3.3, 3.4, 4.9, 4.9, 5.9, 8.6, 3.4, 17.4, 4.6, 10.6, 14.8, 10.1, 11.2, 9.7, 6.0, 10.8, 5.2, 7.8, 16.9, 7.7, 5.6, 9.0, 10.2, 5.7, 8.0, 1.7, 4.7, 3.9, 4.9, 4.3, 8.4, 6.1, 5.4, 9.9, 3.8, 8.0, 3.2, 3.7, 1.5, 6.0, 5.5, 16.8, 6.6, 8.6, 13.3, 5.8, 10.9, 6.4, 8.1, 1.5, 11.9, 7.9, 7.1]\n",
      "\n",
      "Poeple that were killed by police by City [15.0, 8.0, 6.0, 5.0, 7.0, 11.0, 17.0, 16.0, 26.0, 5.0, 5.0, 7.0, 0.0, 2.0, 11.0, 2.0, 55.0, 1.0, 10.0, 6.0, 3.0, 23.0, 3.0, 28.0, 17.0, 9.0, 5.0, 11.0, 6.0, 15.0, 3.0, 16.0, 4.0, 5.0, 2.0, 5.0, 3.0, 8.0, 43.0, 23.0, 0.0, 4.0, 21.0, 3.0, 14.0, 4.0, 27.0, 3.0, 3.0, 16.0, 79.0, 9.0, 3.0, 6.0, 17.0, 12.0, 6.0, 10.0, 5.0, 7.0, 8.0, 57.0, 3.0, 11.0, 5.0, 8.0, 31.0, 13.0, 15.0, 20.0, 59.0, 5.0, 0.0, 7.0, 4.0, 8.0, 6.0, 3.0, 9.0, 26.0, 9.0, 20.0, 14.0, 12.0, 11.0, 6.0, 15.0, 8.0, 19.0, 10.0, 9.0, 14.0, 6.0, 4.0, 17.0, 11.0, 3.0, 13.0, 7.0, 3.0]\n"
     ]
    }
   ],
   "source": [
    "crime = []\n",
    "\n",
    "for i in range(len(blist)):\n",
    "    crime.append(float(blist [i] [18]))\n",
    "    \n",
    "pk = []\n",
    "\n",
    "for i in range(len(blist)):\n",
    "    pk.append(float(blist [i] [3]))\n",
    "\n",
    "print(\"Crime Rate by State\", crime)\n",
    "print(\"\")\n",
    "print(\"Poeple that were killed by police by City\", pk)"
   ]
  },
  {
   "cell_type": "code",
   "execution_count": 13,
   "metadata": {
    "collapsed": false
   },
   "outputs": [
    {
     "name": "stdout",
     "output_type": "stream",
     "text": [
      "0.341862056916 9.63406084378\n",
      "LinregressResult(slope=0.34186205691569327, intercept=9.6340608437767976, rvalue=0.10475329218455254, pvalue=0.29963347888839847, stderr=0.32784925505368107)\n",
      "\n",
      "The r value is 0.10475329218455254.\n"
     ]
    },
    {
     "data": {
      "image/png": "[encoded data removed]",
      "text/plain": [
       "<matplotlib.figure.Figure at 0x15382145828>"
      ]
     },
     "metadata": {},
     "output_type": "display_data"
    }
   ],
   "source": [
    "regression = st.linregress(crime, pk)\n",
    "slope = regression [0]\n",
    "yint = regression[1]\n",
    "print(regression[0], regression[1])\n",
    "plt.plot([0, 20], [yint, slope*20+yint])\n",
    "\n",
    "print(st.linregress(crime, pk))\n",
    "plt.scatter(crime, pk)\n",
    "plt.title(\"The Correlation between Poeple Killed by Police and the Crime Rate per City\")\n",
    "plt.ylabel(\"Number of People Killed by Police\")\n",
    "plt.xlabel(\"Crime Rate\")\n",
    "\n",
    "print(\"\")\n",
    "print(\"The r value is 0.10475329218455254.\")"
   ]
  },
  {
   "cell_type": "markdown",
   "metadata": {},
   "source": [
    "Does a larger black population by percentage make it more likely for police to kill black people?"
   ]
  },
  {
   "cell_type": "code",
   "execution_count": 6,
   "metadata": {
    "collapsed": false
   },
   "outputs": [
    {
     "name": "stdout",
     "output_type": "stream",
     "text": [
      "African American Population by City [14878.0, 8209.0, 15308.0, 67087.0, 224316.0, 49003.0, 60760.0, 26677.0, 392938.0, 124542.0, 155258.0, 138073.0, 97637.0, 10580.0, 252007.0, 65204.0, 872286.0, 9972.0, 132307.0, 208208.0, 24391.0, 217694.0, 11912.0, 294159.0, 58388.0, 586573.0, 92285.0, 18155.0, 38514.0, 136941.0, 6743.0, 37885.0, 32164.0, 12766.0, 108233.0, 12471.0, 6066.0, 4642.0, 485956.0, 223053.0, 3494.0, 25550.0, 247516.0, 59060.0, 135916.0, 478.0, 62008.0, 42336.0, 9541.0, 59925.0, 347380.0, 135138.0, 18744.0, 16507.0, 408075.0, 14101.0, 64993.0, 233325.0, 69971.0, 169272.0, 204866.0, 1861295.0, 138074.0, 102452.0, 41561.0, 106637.0, 85744.0, 55128.0, 63584.0, 644287.0, 86788.0, 78847.0, 19199.0, 35462.0, 115976.0, 5990.0, 19917.0, 83346.0, 64967.0, 83365.0, 29897.0, 82497.0, 46781.0, 27508.0, 3177.0, 3484.0, 47113.0, 4643.0, 156389.0, 43620.0, 57489.0, 33507.0, 83032.0, 76820.0, 23362.0, 61230.0, 83210.0, 301053.0, 42676.0, 78065.0]\n",
      "\n",
      "African American Population Killed by police by City [3.0, 2.0, 0.0, 3.0, 5.0, 3.0, 2.0, 1.0, 22.0, 5.0, 4.0, 6.0, 0.0, 0.0, 8.0, 2.0, 39.0, 0.0, 7.0, 6.0, 0.0, 19.0, 0.0, 10.0, 0.0, 2.0, 2.0, 2.0, 4.0, 4.0, 0.0, 1.0, 2.0, 1.0, 1.0, 0.0, 1.0, 0.0, 24.0, 12.0, 0.0, 1.0, 13.0, 3.0, 7.0, 0.0, 3.0, 1.0, 1.0, 5.0, 19.0, 6.0, 0.0, 2.0, 10.0, 0.0, 3.0, 9.0, 3.0, 3.0, 5.0, 35.0, 1.0, 7.0, 2.0, 6.0, 15.0, 4.0, 7.0, 9.0, 5.0, 3.0, 0.0, 0.0, 3.0, 2.0, 2.0, 2.0, 2.0, 6.0, 0.0, 1.0, 3.0, 1.0, 1.0, 1.0, 2.0, 1.0, 17.0, 3.0, 2.0, 2.0, 1.0, 2.0, 2.0, 4.0, 2.0, 11.0, 1.0, 2.0]\n"
     ]
    }
   ],
   "source": [
    "AApopulation = []\n",
    "\n",
    "for i in range (len(blist)):\n",
    "    AApopulation.append(float(blist [i] [6]))\n",
    "    \n",
    "AAkilledbypolice = []\n",
    "\n",
    "for i in range (len(blist)):\n",
    "    AAkilledbypolice.append(float(blist [i] [4]))\n",
    "    \n",
    "print(\"African American Population by City\", AApopulation)\n",
    "print(\"\")\n",
    "print(\"African American Population Killed by police by City\", AAkilledbypolice)"
   ]
  },
  {
   "cell_type": "code",
   "execution_count": 14,
   "metadata": {
    "collapsed": false
   },
   "outputs": [
    {
     "name": "stdout",
     "output_type": "stream",
     "text": [
      "2.36170642686e-05 1.68465924853\n",
      "LinregressResult(slope=2.3617064268572185e-05, intercept=1.6846592485310801, rvalue=0.79236715618995801, pvalue=9.3150051603494948e-23, stderr=1.836741009251564e-06)\n",
      "\n",
      "The r value is 0.79236715618995801.\n"
     ]
    },
    {
     "data": {
      "image/png": "[encoded data removed]",
      "text/plain": [
       "<matplotlib.figure.Figure at 0x15382094898>"
      ]
     },
     "metadata": {},
     "output_type": "display_data"
    }
   ],
   "source": [
    "regression = st.linregress(AApopulation, AAkilledbypolice)\n",
    "slope = regression [0]\n",
    "yint = regression[1]\n",
    "print(regression[0], regression[1])\n",
    "plt.plot([0, 2000000], [yint, slope*2000000+yint])\n",
    "\n",
    "print(st.linregress(AApopulation, AAkilledbypolice))\n",
    "plt.scatter(AApopulation, AAkilledbypolice)\n",
    "plt.title(\"The Correlation between African Americans Killed by Police and the Population of African Americans per City\")\n",
    "plt.ylabel(\"African Americans Killed by Police\")\n",
    "plt.xlabel(\"Population of African Americans\")\n",
    "\n",
    "print(\"\")\n",
    "print(\"The r value is 0.79236715618995801.\")"
   ]
  },
  {
   "cell_type": "markdown",
   "metadata": {},
   "source": [
    "# Level 1 Analysis"
   ]
  },
  {
   "cell_type": "markdown",
   "metadata": {},
   "source": [
    "In our first graph, we created a scatterplot using the crime rate per city and the number of people killed by police per city. After running a linear regression on the data we were given some visual and numerical information. This helped us determine if there are a higher number of police killings depending on the crime rate of the city.\n",
    "First, if we look at the graph, the data points are all over the place. Most points accumulate towards the bottom of the graph and the rest spread to the top. Before running any linear regression, it is easy to assume there is no correlation between the data. This is because there is no pattern to the data spread. Some of the cities with a lower crime rate have more police killings than some of the cities with the highest crime rate and vice versa. Then we run linear regression on the graph. We get fairly horizontal line with a slight incline. Now we can tell there is very little correlation between police killings and crime rate because the dots do not follow the same pattern as the line. This implies that there are several outliers in the data, and we can conclude there is zero to no correlation between crime rate and police killings per city. Moreover, we are given an r value of 0.10475329218455254. 'r' is the correlation coefficient that measures the strength and direction of a linear relationship between two variables on a scatterplot. If the value is close to 1 or -1 then the data has a strong, linear correlation. However, in this case that is nowhere near true. Now we have a few points of evidence to safely claim that there is no correlation between crime rate per city and police killings per city. A possible reason for this may be that officers that work in areas of higher crime rates may be less prone to panicking due to their amount of exposure to crime and/or their amount of training. However, this would be assuming that deaths due to police brutality are often due to the officer or the victim panicking and committing a mistake. Regardless, since the data is not correlated, we cannot make any concrete claims based on the data.\n",
    "Now, if we take a look at the analysis of the second data set, things are a bit different. In this instance, I plotted the population of African Americans by city and the number of African Americans killed per city. Essentially, I am trying to figure out whether there is a correlation between the number of African Americans killed and the population of African Americans. First, we look at the visual aspect of the data: the graph. In this case the data is slightly hard to read because of the way the data is spread. There are only a few cities in the csv file that have a LARGE population, therefore, the scale of the graph is very zoomed out. Due to this, we cannot clearly see how most of the data is spread out. However, based on what we CAN see the data does seem to follow an upward diagonal, linear pattern. Most of the data points are on the lower (numerical values wise) end of the graph, however, we can still make out a pattern. Running linear regression confirmed this hypothesis as the line goes in an upward diagonal direction. Moreover, the r value is 0.79236715618995801 which is far closer to 1 or -1 than the previous data set. Therefore, we can assume the data has a fairly strong linear relationship. This tells us that we can be fairly confident when we say: the higher the African American Population, the higher the number of African Americans killed by police is. There a few possibilities that could have led to a correlation like this. First of all, it is important to take into account that we have only looked at how likely someone is to be killed if they are African American in particular. So this correlation may occur for other races as well. Regardless, the most plausible possibility for this correlation would be that areas with a lot of crime are predominantly African American."
   ]
  },
  {
   "cell_type": "markdown",
   "metadata": {},
   "source": [
    "# Level 2"
   ]
  },
  {
   "cell_type": "markdown",
   "metadata": {
    "collapsed": true
   },
   "source": [
    "In which state are you most likely to be killed by police if you are of any race?\n",
    "\n",
    "NOTE: These results use the data of whatever states were provided in the data (for some of the states, no cities were provided in the csv file)"
   ]
  },
  {
   "cell_type": "code",
   "execution_count": 8,
   "metadata": {
    "collapsed": false,
    "scrolled": true
   },
   "outputs": [
    {
     "name": "stdout",
     "output_type": "stream",
     "text": [
      "All the poeple that were killed by police by state [5, 6, 101, 242, 31, 60, 7, 8, 55, 29, 7, 12, 13, 26, 7, 9, 10, 33, 16, 45, 6, 15, 60, 25, 43, 42, 7, 25, 24, 163, 16, 23, 16]\n",
      "\n",
      "Total population by state [212237, 291826, 3085018, 11149492, 1341663, 2264688, 420003, 337256, 2695598, 1074136, 382368, 893140, 573322, 620961, 617594, 713777, 285068, 779081, 667337, 2727779, 524737, 545852, 8647008, 1863009, 1767999, 971905, 583776, 2971638, 1248111, 8644715, 903006, 817576, 828042]\n"
     ]
    }
   ],
   "source": [
    "statesKBP = [5,6,101,242,31,60,7,8,55,29,7,12,13,26,7,9,10,33,16,45,6,15,60,25,43,42,7,25,24,163,16,23,16]\n",
    "statestotal = [212237,291826,3085018,11149492,1341663,2264688,420003,337256,2695598,1074136,382368,893140,573322,620961,617594,713777,285068,779081,667337,2727779,524737,545852,8647008,1863009,1767999,971905,583776,2971638,1248111,8644715,903006,817576,828042]\n",
    "\n",
    "print(\"All the poeple that were killed by police by state\", statesKBP)\n",
    "print(\"\")\n",
    "print(\"Total population by state\", statestotal)"
   ]
  },
  {
   "cell_type": "code",
   "execution_count": 9,
   "metadata": {
    "collapsed": false
   },
   "outputs": [
    {
     "name": "stdout",
     "output_type": "stream",
     "text": [
      "[2.35585689582872e-05, 2.0560196829617647e-05, 3.2738868946631755e-05, 2.1705024767047682e-05, 2.3105653207996346e-05, 2.649371569063818e-05, 1.6666547619897955e-05, 2.372085300187395e-05, 2.0403635853714094e-05, 2.6998443400090863e-05, 1.830697129466901e-05, 1.3435743556441319e-05, 2.2674866828762893e-05, 4.187058446504692e-05, 1.133430700427789e-05, 1.2608980115638357e-05, 3.507934948854309e-05, 4.235759824716557e-05, 2.3975892240352324e-05, 1.649693761848009e-05, 1.1434299468114504e-05, 2.7479976257300514e-05, 6.938816293450867e-06, 1.3419151490948246e-05, 2.432128072470629e-05, 4.321410014353255e-05, 1.1990900619415666e-05, 8.412868593011666e-06, 1.922905895389112e-05, 1.8855450989419547e-05, 1.7718597661588072e-05, 2.8131941250721647e-05, 1.9322691361066228e-05]\n",
      "\n",
      "You are most likely to be killed by police (if you are any race) in Oklahoma. This state has a deathrate (of poeple killed by police) of 4.321410014353255e-05 , or 0.0000432%.\n"
     ]
    }
   ],
   "source": [
    "deathrate = []\n",
    "\n",
    "for i in range (33):\n",
    "    deathrate.append(statesKBP[i]/statestotal[i])\n",
    "\n",
    "print(deathrate)\n",
    "print(\"\")\n",
    "print(\"You are most likely to be killed by police (if you are any race) in Oklahoma. This state has a deathrate (of poeple killed by police) of\", max(deathrate), \", or 0.0000432%.\")"
   ]
  },
  {
   "cell_type": "markdown",
   "metadata": {},
   "source": [
    "In which state are you most likely to be killed by police if you are black?"
   ]
  },
  {
   "cell_type": "code",
   "execution_count": 10,
   "metadata": {
    "collapsed": false
   },
   "outputs": [
    {
     "name": "stdout",
     "output_type": "stream",
     "text": [
      "All Black poeple that were killed by police by state [4, 0, 9, 46, 3, 27, 5, 0, 39, 16, 1, 7, 10, 22, 6, 2, 3, 24, 5, 7, 4, 3, 37, 16, 34, 19, 0, 12, 13, 54, 11, 3, 5]\n",
      "\n",
      "Total population of Black People by state [155258, 15308, 151081, 915173, 131782, 522680, 224316, 4642, 872286, 261567, 42676, 177474, 329408, 392938, 138073, 586573, 43620, 292305, 64669, 122030, 197134, 14878, 2042278, 646566, 635029, 146974, 35462, 723124, 577347, 1254470, 250866, 51756, 249832]\n"
     ]
    }
   ],
   "source": [
    "statesBKBP = [4,0,9,46,3,27,5,0,39,16,1,7,10,22,6,2,3,24,5,7,4,3,37,16,34,19,0,12,13,54,11,3,5]\n",
    "statesBtotal = [155258,15308,151081,915173,131782,522680,224316,4642,872286,261567,42676,177474,329408,392938,138073,586573,43620,292305,64669,122030,197134,14878,2042278,646566,635029,146974,35462,723124,577347,1254470,250866,51756,249832]\n",
    "\n",
    "print(\"All Black poeple that were killed by police by state\", statesBKBP)\n",
    "print(\"\")\n",
    "print(\"Total population of Black People by state\", statesBtotal)"
   ]
  },
  {
   "cell_type": "code",
   "execution_count": 11,
   "metadata": {
    "collapsed": false
   },
   "outputs": [
    {
     "name": "stdout",
     "output_type": "stream",
     "text": [
      "[2.576356773886048e-05, 0.0, 5.957069386620422e-05, 5.026372062986998e-05, 2.2764869253767586e-05, 5.165684548863549e-05, 2.2289983772891813e-05, 0.0, 4.4710106547623145e-05, 6.116979588403735e-05, 2.3432374168150716e-05, 3.944239719620902e-05, 3.0357489799883426e-05, 5.598847655355298e-05, 4.3455273659585874e-05, 3.4096352883613803e-06, 6.87757909215956e-05, 8.210601939754709e-05, 7.731679784750035e-05, 5.736294353847415e-05, 2.0290766686619255e-05, 0.00020164000537706682, 1.8117024224909635e-05, 2.4746120272331055e-05, 5.354086191339293e-05, 0.00012927456556942045, 0.0, 1.65946642622842e-05, 2.251678799751276e-05, 4.304606726346585e-05, 4.3848110146452686e-05, 5.796429399489914e-05, 2.001344903775337e-05]\n",
      "\n",
      "You are most likely to be killed by police (if you are Black) in New Mexico. This state has a deathrate (of Black poeple killed by police) of 0.00020164000537706682 , or 0.000201%.\n"
     ]
    }
   ],
   "source": [
    "deathrateB = []\n",
    "\n",
    "for i in range (33):\n",
    "    deathrateB.append(statesBKBP[i]/statesBtotal[i])\n",
    "    \n",
    "print(deathrateB)\n",
    "print(\"\")\n",
    "print(\"You are most likely to be killed by police (if you are Black) in New Mexico. This state has a deathrate (of Black poeple killed by police) of\", max(deathrateB), \", or 0.000201%.\")"
   ]
  },
  {
   "cell_type": "markdown",
   "metadata": {},
   "source": [
    "# Level 2 Analysis"
   ]
  },
  {
   "cell_type": "markdown",
   "metadata": {},
   "source": [
    "We found the state where someone is most likely to be killed by police (if they are any race). We discovered that this state is Oklahoma simply by dividing the number of people killed by police by the total population of the state.\n",
    "Then we found the state where someone is most likely to be killed by police (if they are African American). We found that this state is New Mexico by dividing the total number of African Americans killed by police divided by the total African American population."
   ]
  },
  {
   "cell_type": "markdown",
   "metadata": {},
   "source": [
    "# Conclusion"
   ]
  },
  {
   "cell_type": "markdown",
   "metadata": {},
   "source": [
    "Upon completion of the lab I now have some evidence to prove that police violence is directed at certain races. First of all, it is important to note that we only analyzed a small amount of data. To really get some concrete evidence we would need to look at police violence towards each individual race and compare them. However, given the data that we just analyzed it is evident that police brutality may be directed at African Americans. If anything, the data shows us that police are constantly violent towards African Americans as the population of African Americans goes up (the rate of police brutality towards African Americans is near constant). Moreover, in Albuquerque, New Mexico an African American has a 0.000201 percent chance of being a victim to police brutality. That number may seem small but it is relatively larger than the rate of police brutality towards African Americans in other states. Of course looking at this data from a broader perspective makes me think that looking at police brutality towards other races is key. In order to make a solid claim about police brutality towards blacks we need to have the context of police brutality in general. This lab, however, gave us a small insight to the bigger picture of police violence in the US."
   ]
  }
 ],
 "metadata": {
  "kernelspec": {
   "display_name": "Python [Root]",
   "language": "python",
   "name": "Python [Root]"
  },
  "language_info": {
   "codemirror_mode": {
    "name": "ipython",
    "version": 3
   },
   "file_extension": ".py",
   "mimetype": "text/x-python",
   "name": "python",
   "nbconvert_exporter": "python",
   "pygments_lexer": "ipython3",
   "version": "3.5.2"
  }
 },
 "nbformat": 4,
 "nbformat_minor": 0
}
