{
 "cells": [
  {
   "cell_type": "markdown",
   "metadata": {
    "collapsed": false
   },
   "source": [
    "# Statistical and Graphical Analysis of the Bridge Crossings since 2012\n",
    "##Jai Naidu\n",
    "##9/20/16\n",
    "##Period 8\n",
    "##Ms. Anderson"
   ]
  },
  {
   "cell_type": "code",
   "execution_count": 60,
   "metadata": {
    "collapsed": true
   },
   "outputs": [],
   "source": [
    "import statistics\n",
    "import matplotlib.pyplot as plt\n",
    "%matplotlib inline"
   ]
  },
  {
   "cell_type": "code",
   "execution_count": 62,
   "metadata": {
    "collapsed": false
   },
   "outputs": [
    {
     "name": "stdout",
     "output_type": "stream",
     "text": [
      "West Bridge Crossing Basic Statistics:\n",
      "The mean  for west is 1497.5666666666666\n",
      "The median for west is 1573.5\n",
      "There is no mode, 30 equally common values\n",
      "\n",
      "East Bridge Crossing Basic Statistics:\n",
      "The mean for east is 1540.4333333333334\n",
      "The median for east is 1648.0\n",
      "There is no mode, 30 equally common values\n",
      "\n",
      "Combined Bridge Crossing Basic Statistics:\n",
      "The mean for east is 3038\n",
      "The median for east is 3221.5\n",
      "There is no mode, 30 equally common values\n",
      "\n",
      "Daily Statistics for the Freemont Bridge Crossings (east and west data combined):\n",
      "The mean for Monday bridge crossings is 3239\n",
      "The mean for Tuesday bridge crossings is 3817\n",
      "The mean for Wednesday bridge crossings is 4054.6\n",
      "The mean for Thursday bridge crossings is 3490.75\n",
      "The mean for Friday bridge crossings is 3095.5\n",
      "The mean for Saturday bridge crossings is 1847.25\n",
      "The mean for Sunday bridge crossings is 1273\n",
      "\n",
      "Therefore, the busiest day of the week is Wednesday, with an average bridge crossing of 4054.6\n"
     ]
    },
    {
     "data": {
      "image/png": "[encoded data removed]",
      "text/plain": [
       "<matplotlib.figure.Figure at 0x1e518209a20>"
      ]
     },
     "metadata": {},
     "output_type": "display_data"
    }
   ],
   "source": [
    "#File Reading\n",
    "#Emma Anderson, Big Data, 9/7/16\n",
    "#open and save the file for reading\n",
    "data_file = open(\"FreBridge1.csv\", \"r\");\n",
    "#create an empty list to store the data\n",
    "data_list = [];\n",
    "#put all lines from the file into a list\n",
    "for ii in data_file:\n",
    "    data_list.append(ii);\n",
    "\n",
    "#remove the first element (column header)\n",
    "del data_list[0];\n",
    "#create empty lists for westbound and eastbound bikes\n",
    "west = [];\n",
    "east = [];    \n",
    "for jj in range(len(data_list)):\n",
    "#make into a list of lists of just numbers\n",
    "    data_list[jj] = data_list[jj].split(\",\");\n",
    "#add data to specific lists for west and east\n",
    "    west.append(int(data_list[jj][1]));\n",
    "    east.append(int(data_list[jj][2]));\n",
    "\n",
    "#statistics for the \"west\" array\n",
    "print(\"West Bridge Crossing Basic Statistics:\")\n",
    "print(\"The mean  for west is\", statistics.mean(west))\n",
    "print(\"The median for west is\", statistics.median(west))\n",
    "print(\"There is no mode, 30 equally common values\")\n",
    "\n",
    "print(\"\")\n",
    "\n",
    "#statistics for the \"east\" array\n",
    "print(\"East Bridge Crossing Basic Statistics:\")\n",
    "print(\"The mean for east is\", statistics.mean(east))\n",
    "print(\"The median for east is\", statistics.median(east))\n",
    "print(\"There is no mode, 30 equally common values\")\n",
    "\n",
    "print(\"\")\n",
    "\n",
    "#I made a new array that adds each index from the east and west arrays and puts it into one array (it is called all_data)\n",
    "all_data = []\n",
    "\n",
    "for i in range (len(west)):\n",
    "    all_data.append(west[i] + east[i])\n",
    "#I printed the statistics\n",
    "print(\"Combined Bridge Crossing Basic Statistics:\")\n",
    "print(\"The mean for east is\", statistics.mean(all_data))\n",
    "print(\"The median for east is\", statistics.median(all_data))\n",
    "print(\"There is no mode, 30 equally common values\")\n",
    "\n",
    "print(\"\")\n",
    "\n",
    "#I appended every 7th index into its own array. I added 1 for the for loop variable (x) and appended that to a new arry as well.\n",
    "#I did this 7 times for each day of the week.\n",
    "tue = []\n",
    "wed = []\n",
    "thu = []\n",
    "fri = []\n",
    "sat = []\n",
    "sun = []\n",
    "mon = []\n",
    "\n",
    "for x in range (0, len(west), 7):\n",
    "    tue.append(all_data[x])\n",
    "    wed.append(all_data[x+1])\n",
    "    if(x<28):\n",
    "        thu.append(all_data[x+2])\n",
    "        fri.append(all_data[x+3])\n",
    "        sat.append(all_data[x+4])\n",
    "        sun.append(all_data[x+5])\n",
    "        mon.append(all_data[x+6])\n",
    "#I used the average for each day and plotted a box and whisker graph       \n",
    "avgday = [statistics.mean(mon), statistics.mean(tue), statistics.mean(wed), statistics.mean(thu), statistics.mean(fri), statistics.mean(sat), statistics.mean(sun)]\n",
    "\n",
    "plt.boxplot(avgday)\n",
    "plt.title(\"Freemont Bridge Crossings in 2015 (using the average of each day's crossings)\")\n",
    "\n",
    "#I printed the mean for the total crossings on each day on the Freemont bridge (that's east and west combined).\n",
    "print(\"Daily Statistics for the Freemont Bridge Crossings (east and west data combined):\")\n",
    "print(\"The mean for Monday bridge crossings is\", statistics.mean(mon))\n",
    "print(\"The mean for Tuesday bridge crossings is\", statistics.mean(tue))\n",
    "print(\"The mean for Wednesday bridge crossings is\", statistics.mean(wed))\n",
    "print(\"The mean for Thursday bridge crossings is\", statistics.mean(thu))\n",
    "print(\"The mean for Friday bridge crossings is\", statistics.mean(fri))\n",
    "print(\"The mean for Saturday bridge crossings is\", statistics.mean(sat))\n",
    "print(\"The mean for Sunday bridge crossings is\", statistics.mean(sun))\n",
    "\n",
    "print(\"\")\n",
    "\n",
    "print(\"Therefore, the busiest day of the week is Wednesday, with an average bridge crossing of\", statistics.mean(wed))"
   ]
  },
  {
   "cell_type": "markdown",
   "metadata": {},
   "source": [
    "# Part 1 Analysis"
   ]
  },
  {
   "cell_type": "markdown",
   "metadata": {},
   "source": [
    "The mean will give me the average number of crossings for which ever data set I choose. For example, if I choose the mean for the \"west\" array, then I would get an average number of people that cross the west side of the bridge. This kind of statistic would help me because I can get a feel for how many people will cross the west side of the bridge on any day. While there may be outliers, this number is a good estimation. I also took the mean of the east bridge crossing data as well as the total bridge crossings (east + west). I did this in order to make sure the data for east and west is fairly similar. If I took the mean of the east data and the west data and found the sum, the mean should be close to the total data bridge crossing mean. So in this case, I used the mean to check the data for any obscurities. The median is very helpful, however, it does not take the outliers into account (the center of the data). I would say in large sets of data the median isn't as helpful. In small data sets, the outliers would severely change the mean, so the median would likely be more accurate to make predictions. However, this is a large set of data so the mean is very helpful. The mode on the other hand, is inapplicable in this case. This would show me the most repeated number in the data set, however, in this case, the data has unique values for every data point (no number is the same). This statistic has no use in this case. I would say the mean gives us the most information. As I explained earlier, the median is more useful in small sets of data, and this data is fairly large. So I believe the mean would be more useful. Moreover, the mean takes into to account all of the data while the median just finds the center of the data. Furthermore, I thought it would have been helpful to get more information. I did so by creating a box and whisker plot for the data. I did, however, use a slightly different data set. I first added the east and west array together to create a set of data that takes into account all of the bridge crossings per day. Then I separated the data into data for Mondays, Tuesdays, etc. Then I took the mean for each of those days, and plotted the box and whisker graph. This graph enables me to identify any outliers (none) and what would be considered an outlier, identify where the middle 50 percent of the data lies, and the median. One of the useful pieces of information that the graph gives me is that there are quite a few days where there are very few people crossing the bridge relative to the rest of the data. That is why the bottom line extends so long. After all of this analysis I came to the conclusion that Wednesday is the busiest day of the week on the Freemont Bridge. In order to find this data (after separating the data into specific days) I just found the mean of each day. Then I choose the day with the highest mean (Wednesday - 4054.6)."
   ]
  },
  {
   "cell_type": "code",
   "execution_count": 61,
   "metadata": {
    "collapsed": false
   },
   "outputs": [
    {
     "name": "stdout",
     "output_type": "stream",
     "text": [
      "The mean of the Fridays from 2013 is 2734.5\n",
      "The mean of the Fridays from 2014 is 3583.75\n",
      "The mean of the Fridays from 2015 is 3095.5\n",
      "\n",
      "The mean of all September Fridays is 3137.9166666666665\n",
      "Therefore, the number of crossings on Friday, September 30 is likely very close to this number (3138 is my guess, I just rounded up).\n"
     ]
    }
   ],
   "source": [
    "data_file = open(\"FreBridge2.csv\", \"r\");\n",
    "#create an empty list to store the data\n",
    "data_list = [];\n",
    "#put all lines from the file into a list\n",
    "for ii in data_file:\n",
    "    data_list.append(ii);\n",
    "\n",
    "#remove the first element (column header)\n",
    "del data_list[0];\n",
    "#create empty lists for westbound and eastbound bikes\n",
    "west = [];\n",
    "east = [];    \n",
    "for kk in range(len(data_list)):\n",
    "#make into a list of lists of just numbers\n",
    "    data_list[kk] = data_list[kk].split(\",\");\n",
    "#add data to specific lists for west and east\n",
    "    west.append(int(data_list[kk][1]));\n",
    "    \n",
    "    east.append(int(data_list[kk][2]));\n",
    "    \n",
    "#I made a new array that adds each index from the east and west arrays and puts it into one array (it is called all_data)\n",
    "all_data = []\n",
    "#I added the east and west arrays together\n",
    "for i in range (len(west)):\n",
    "    all_data.append(west[i] + east[i])\n",
    "#I created arrays for each of the September Fridays and appended the appropriate data to the arrays\n",
    "all_fridays = []\n",
    "fridays2013 = []\n",
    "fridays2014 = []\n",
    "fridays2015 = []\n",
    "averagefridays = []\n",
    "\n",
    "for pp in range (338, 363, 7):\n",
    "    fridays2013.append (all_data[pp])\n",
    "    \n",
    "for zz in range (702, 728, 7):\n",
    "    fridays2014.append (all_data[zz])\n",
    "    \n",
    "for tt in range (1066, 1093, 7):\n",
    "    fridays2015.append (all_data[tt])\n",
    "#I took the means of each of the friday arrays and printed them\n",
    "averagefridays.append (statistics.mean(fridays2013))\n",
    "averagefridays.append (statistics.mean(fridays2014))\n",
    "averagefridays.append (statistics.mean(fridays2015))\n",
    "#I printed the statistics\n",
    "print(\"The mean of the Fridays from 2013 is\", statistics.mean(fridays2013))\n",
    "print(\"The mean of the Fridays from 2014 is\", statistics.mean(fridays2014))\n",
    "print(\"The mean of the Fridays from 2015 is\", statistics.mean(fridays2015))\n",
    "\n",
    "print (\"\")\n",
    "\n",
    "print(\"The mean of all September Fridays is\", statistics.mean(averagefridays))\n",
    "print(\"Therefore, the number of crossings on Friday, September 30 is likely very close to this number (3138 is my guess, I just rounded up).\") #explanation in analysis"
   ]
  },
  {
   "cell_type": "markdown",
   "metadata": {},
   "source": [
    "# Part 2 Analysis"
   ]
  },
  {
   "cell_type": "markdown",
   "metadata": {},
   "source": [
    "For this part, I decided to predict the number of crossings on September 30th, 2016, using the mean statistic. After isolating all of the data for September Fridays, I simply took the mean of the Fridays in September for each year. Then I appended those means into their own array, and took the mean of that array. So I essentially used the data from three years’ worth of September Fridays to predict the number of bridge crossings for this year. I considered using standard deviation to make my guess more accurate, however, since there were no major outliers, the standard deviation would not help too much. Instead of calculating how much the data spreads from the mean, I just checked the data myself. For instance, that is why I took the mean of the 3 Friday arrays. Since those numbers were not too skewed I know the sample data is not skewed. Therefore, there is no point in taking the standard deviation."
   ]
  },
  {
   "cell_type": "markdown",
   "metadata": {},
   "source": [
    "# Conclusion"
   ]
  },
  {
   "cell_type": "markdown",
   "metadata": {},
   "source": [
    " I tried to eliminate all outside factors that skewed the data by only using the data from the Fridays in September. First, by choosing only Fridays, I elimnated the changes in data that occur during the weekend (when less people cross the bridge), mostly because more people cross the bridge during work days. Also, since I only choose Fridays in September, I eliminated a lot of the seasonal changes that affect the data. For example, there would probably a larger amount of crossings on a summer day versus a cold fall or winter day. Lastly, I believe that I will be around a few hundred away from the actual statistic purely because of how far my guess is from the means for the 2013, 2014, and 2015 Fridays. In a way I am playing it safe. I may not be VERY lose to the right date, but I have a very high chance of being pretty close."
   ]
  }
 ],
 "metadata": {
  "anaconda-cloud": {},
  "kernelspec": {
   "display_name": "Python [Root]",
   "language": "python",
   "name": "Python [Root]"
  },
  "language_info": {
   "codemirror_mode": {
    "name": "ipython",
    "version": 3
   },
   "file_extension": ".py",
   "mimetype": "text/x-python",
   "name": "python",
   "nbconvert_exporter": "python",
   "pygments_lexer": "ipython3",
   "version": "3.5.2"
  }
 },
 "nbformat": 4,
 "nbformat_minor": 0
}
