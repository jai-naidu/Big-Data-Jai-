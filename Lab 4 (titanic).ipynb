{
 "cells": [
  {
   "cell_type": "markdown",
   "metadata": {},
   "source": [
    "# Analyzing the Features of Passengers that were a Part of the Titanic Sinking Using Different Machine Learning Algorithms\n",
    "##Jai Naidu\n",
    "##11/28/16\n",
    "##Period 8\n",
    "##Ms. Anderson"
   ]
  },
  {
   "cell_type": "markdown",
   "metadata": {},
   "source": [
    "# Part 1"
   ]
  },
  {
   "cell_type": "code",
   "execution_count": 2,
   "metadata": {
    "collapsed": true
   },
   "outputs": [],
   "source": [
    "##   1\t Class (0 = crew, 1 = first, 2 = second, 3 = third)\n",
    "##  2 \t Age   (1 = adult, 0 = child)\n",
    "##  3\t Sex   (1 = male, 0 = female)\n",
    "##  4\t Survived (1 = yes, 0 = no)"
   ]
  },
  {
   "cell_type": "code",
   "execution_count": 13,
   "metadata": {
    "collapsed": false
   },
   "outputs": [
    {
     "name": "stdout",
     "output_type": "stream",
     "text": [
      "(2201, 4)\n",
      "[[ 1.  1.  1.]\n",
      " [ 1.  1.  1.]\n",
      " [ 1.  1.  1.]\n",
      " ..., \n",
      " [ 0.  1.  0.]\n",
      " [ 0.  1.  0.]\n",
      " [ 0.  1.  0.]]\n",
      "[ 1.  1.  1. ...,  0.  0.  0.]\n"
     ]
    }
   ],
   "source": [
    "#code to import a csv and convert it to a numpy array\n",
    "#import the numpy library\n",
    "import numpy as np\n",
    "#open the file\n",
    "raw_data = open(\"titanic.csv\")\n",
    "# load the CSV file as a numpy matrix\n",
    "dataset = np.loadtxt(raw_data, delimiter=\",\")\n",
    "#'shape' is the dimensions of the matrix\n",
    "print(dataset.shape)\n",
    "# separate the data from the target attributes\n",
    "X = dataset[:,0:3]\n",
    "y = dataset[:,3]\n",
    "print(X)\n",
    "print(y)"
   ]
  },
  {
   "cell_type": "code",
   "execution_count": 14,
   "metadata": {
    "collapsed": false
   },
   "outputs": [
    {
     "name": "stdout",
     "output_type": "stream",
     "text": [
      "0.77838328792\n"
     ]
    }
   ],
   "source": [
    "from sklearn import tree\n",
    "import random\n",
    "from sklearn.cross_validation import train_test_split\n",
    "X_train, X_test, y_train, y_test=train_test_split(X,y,test_size=.5)\n",
    "\n",
    "my_classifier=tree.DecisionTreeClassifier();\n",
    "my_classifier=my_classifier.fit(X_train, y_train)\n",
    "predictions=my_classifier.predict(X_test)\n",
    "\n",
    "from sklearn.metrics import accuracy_score\n",
    "print(accuracy_score(predictions, y_test))\n",
    "\n",
    "#0.795640326975, 0.792915531335, 0.792007266122, 0.788374205268, 0.785649409628"
   ]
  },
  {
   "cell_type": "code",
   "execution_count": 26,
   "metadata": {
    "collapsed": false
   },
   "outputs": [
    {
     "name": "stdout",
     "output_type": "stream",
     "text": [
      "0.782016348774\n"
     ]
    }
   ],
   "source": [
    "import random\n",
    "X_train, X_test, y_train, y_test=train_test_split(X,y,test_size=.5)\n",
    "\n",
    "from sklearn import neighbors\n",
    "knn_classifier = neighbors.KNeighborsClassifier()\n",
    "knn_classifier = knn_classifier.fit(X_train, y_train)\n",
    "knn_predictions = knn_classifier.predict(X_test)\n",
    "\n",
    "print(accuracy_score(knn_predictions, y_test))\n",
    "\n",
    "#0.570390554042, 0.762034514078, 0.785649409628, 0.792007266122, 0.800181653043"
   ]
  },
  {
   "cell_type": "code",
   "execution_count": 27,
   "metadata": {
    "collapsed": false
   },
   "outputs": [
    {
     "name": "stdout",
     "output_type": "stream",
     "text": [
      "0.783832879201\n"
     ]
    }
   ],
   "source": [
    "import random\n",
    "X_train, X_test, y_train, y_test=train_test_split(X,y,test_size=.5)\n",
    "\n",
    "from sklearn import ensemble\n",
    "rf_classifier = ensemble.RandomForestClassifier()\n",
    "rf_classifier = rf_classifier.fit(X_train, y_train)\n",
    "rf_predictions = rf_classifier.predict(X_test)\n",
    "\n",
    "print(accuracy_score(rf_predictions, y_test))\n",
    "\n",
    "#0.777475022707, 0.782924613987, 0.780199818347, 0.786557674841, 0.779291553134"
   ]
  },
  {
   "cell_type": "markdown",
   "metadata": {},
   "source": [
    "In the end I decided to use the decision tree classifier to predict the outcomes of the situation in the next part. This classifier had the highest mean accuracy (I tested each classifier's accuracy 5 times)."
   ]
  },
  {
   "cell_type": "markdown",
   "metadata": {},
   "source": [
    "# Part 2"
   ]
  },
  {
   "cell_type": "code",
   "execution_count": 25,
   "metadata": {
    "collapsed": false
   },
   "outputs": [
    {
     "name": "stdout",
     "output_type": "stream",
     "text": [
      "An adult male in the 3rd class is predicted to die:\n",
      "[ 0.]\n",
      "An adult female in the 1st class is predicted to live:\n",
      "[ 1.]\n",
      "A female child in the 1st class is predicted to live:\n",
      "[ 1.]\n"
     ]
    },
    {
     "name": "stderr",
     "output_type": "stream",
     "text": [
      "C:\\Users\\jai\\Anaconda3\\lib\\site-packages\\sklearn\\utils\\validation.py:386: DeprecationWarning: Passing 1d arrays as data is deprecated in 0.17 and willraise ValueError in 0.19. Reshape your data either using X.reshape(-1, 1) if your data has a single feature or X.reshape(1, -1) if it contains a single sample.\n",
      "  DeprecationWarning)\n",
      "C:\\Users\\jai\\Anaconda3\\lib\\site-packages\\sklearn\\utils\\validation.py:386: DeprecationWarning: Passing 1d arrays as data is deprecated in 0.17 and willraise ValueError in 0.19. Reshape your data either using X.reshape(-1, 1) if your data has a single feature or X.reshape(1, -1) if it contains a single sample.\n",
      "  DeprecationWarning)\n",
      "C:\\Users\\jai\\Anaconda3\\lib\\site-packages\\sklearn\\utils\\validation.py:386: DeprecationWarning: Passing 1d arrays as data is deprecated in 0.17 and willraise ValueError in 0.19. Reshape your data either using X.reshape(-1, 1) if your data has a single feature or X.reshape(1, -1) if it contains a single sample.\n",
      "  DeprecationWarning)\n"
     ]
    }
   ],
   "source": [
    "import random\n",
    "X_train, X_test, y_train, y_test=train_test_split(X,y,test_size=.5)\n",
    "\n",
    "from sklearn import tree\n",
    "tree_classifier = tree.DecisionTreeClassifier();\n",
    "tree_classifier = tree_classifier.fit(X_train, y_train)\n",
    "tree_predictions = tree_classifier.predict(X_test)\n",
    "\n",
    "from sklearn.metrics import accuracy_score\n",
    "\n",
    "clf = tree.DecisionTreeClassifier()\n",
    "clf = clf.fit(X,y)\n",
    "\n",
    "print(\"An adult male in the 3rd class is predicted to die:\")\n",
    "print(clf.predict([3,1,1]))\n",
    "print(\"An adult female in the 1st class is predicted to live:\")\n",
    "print(clf.predict([1,1,0]))\n",
    "print(\"A female child in the 1st class is predicted to live:\")\n",
    "print(clf.predict([1,0,0]))"
   ]
  },
  {
   "cell_type": "markdown",
   "metadata": {},
   "source": [
    "# Part 3"
   ]
  },
  {
   "cell_type": "code",
   "execution_count": 22,
   "metadata": {
    "collapsed": false
   },
   "outputs": [
    {
     "name": "stdout",
     "output_type": "stream",
     "text": [
      "Which quality is the most influential to the condition of any given person aboard the Titanic during the crash?\n",
      "[ 0.]\n",
      "[ 0.]\n",
      "[ 0.]\n",
      "[ 0.]\n",
      "[ 0.]\n",
      "[ 1.]\n"
     ]
    },
    {
     "name": "stderr",
     "output_type": "stream",
     "text": [
      "C:\\Users\\jai\\Anaconda3\\lib\\site-packages\\sklearn\\utils\\validation.py:386: DeprecationWarning: Passing 1d arrays as data is deprecated in 0.17 and willraise ValueError in 0.19. Reshape your data either using X.reshape(-1, 1) if your data has a single feature or X.reshape(1, -1) if it contains a single sample.\n",
      "  DeprecationWarning)\n",
      "C:\\Users\\jai\\Anaconda3\\lib\\site-packages\\sklearn\\utils\\validation.py:386: DeprecationWarning: Passing 1d arrays as data is deprecated in 0.17 and willraise ValueError in 0.19. Reshape your data either using X.reshape(-1, 1) if your data has a single feature or X.reshape(1, -1) if it contains a single sample.\n",
      "  DeprecationWarning)\n",
      "C:\\Users\\jai\\Anaconda3\\lib\\site-packages\\sklearn\\utils\\validation.py:386: DeprecationWarning: Passing 1d arrays as data is deprecated in 0.17 and willraise ValueError in 0.19. Reshape your data either using X.reshape(-1, 1) if your data has a single feature or X.reshape(1, -1) if it contains a single sample.\n",
      "  DeprecationWarning)\n",
      "C:\\Users\\jai\\Anaconda3\\lib\\site-packages\\sklearn\\utils\\validation.py:386: DeprecationWarning: Passing 1d arrays as data is deprecated in 0.17 and willraise ValueError in 0.19. Reshape your data either using X.reshape(-1, 1) if your data has a single feature or X.reshape(1, -1) if it contains a single sample.\n",
      "  DeprecationWarning)\n",
      "C:\\Users\\jai\\Anaconda3\\lib\\site-packages\\sklearn\\utils\\validation.py:386: DeprecationWarning: Passing 1d arrays as data is deprecated in 0.17 and willraise ValueError in 0.19. Reshape your data either using X.reshape(-1, 1) if your data has a single feature or X.reshape(1, -1) if it contains a single sample.\n",
      "  DeprecationWarning)\n",
      "C:\\Users\\jai\\Anaconda3\\lib\\site-packages\\sklearn\\utils\\validation.py:386: DeprecationWarning: Passing 1d arrays as data is deprecated in 0.17 and willraise ValueError in 0.19. Reshape your data either using X.reshape(-1, 1) if your data has a single feature or X.reshape(1, -1) if it contains a single sample.\n",
      "  DeprecationWarning)\n"
     ]
    }
   ],
   "source": [
    "print(\"Which quality is the most influential to the condition of any given person aboard the Titanic during the crash?\")\n",
    "print(clf.predict([1,1,1]))\n",
    "print(clf.predict([3,0,1]))\n",
    "print(clf.predict([3,1,0]))\n",
    "print(clf.predict([2,1,1]))\n",
    "print(clf.predict([0,1,1]))\n",
    "print(clf.predict([2,1,0]))"
   ]
  },
  {
   "cell_type": "markdown",
   "metadata": {},
   "source": [
    "In this part I decided to find out the most influential quality for an individual's survival through trial and error. I tested several different individuals and tested them to see if they would live or die. I altered 1 or 2 qualities at a time and eventually came to the conclusion that age is the deciding factor."
   ]
  },
  {
   "cell_type": "code",
   "execution_count": 28,
   "metadata": {
    "collapsed": false
   },
   "outputs": [
    {
     "name": "stdout",
     "output_type": "stream",
     "text": [
      "Using class as the only feature, the accuracy of the classifier is:\n",
      "0.63578564941\n",
      "\n",
      "Using age as the only feature, the accuracy of the classifier is:\n",
      "0.636693914623\n",
      "\n",
      "Using gender as the only feature, the accuracy of the classifier is:\n",
      "0.615803814714\n",
      "\n"
     ]
    }
   ],
   "source": [
    "X = dataset[:,0:1]\n",
    "y = dataset[:,3]\n",
    "\n",
    "import random\n",
    "X_train, X_test, y_train, y_test=train_test_split(X,y,test_size=.5)\n",
    "\n",
    "from sklearn import tree\n",
    "tree_classifier = tree.DecisionTreeClassifier();\n",
    "tree_classifier = tree_classifier.fit(X_train, y_train)\n",
    "tree_predictions = tree_classifier.predict(X_test)\n",
    "\n",
    "print(\"Using class as the only feature, the accuracy of the classifier is:\")\n",
    "print(accuracy_score(predictions, y_test))\n",
    "print(\"\")\n",
    "#\n",
    "X = dataset[:,1:2]\n",
    "y = dataset[:,3]\n",
    "\n",
    "import random\n",
    "X_train, X_test, y_train, y_test=train_test_split(X,y,test_size=.5)\n",
    "\n",
    "from sklearn import tree\n",
    "tree_classifier = tree.DecisionTreeClassifier();\n",
    "tree_classifier = tree_classifier.fit(X_train, y_train)\n",
    "tree_predictions = tree_classifier.predict(X_test)\n",
    "\n",
    "print(\"Using age as the only feature, the accuracy of the classifier is:\")\n",
    "print(accuracy_score(predictions, y_test))\n",
    "print(\"\")\n",
    "#\n",
    "X = dataset[:,2:3]\n",
    "y = dataset[:,3]\n",
    "\n",
    "import random\n",
    "X_train, X_test, y_train, y_test=train_test_split(X,y,test_size=.5)\n",
    "\n",
    "from sklearn import tree\n",
    "tree_classifier = tree.DecisionTreeClassifier();\n",
    "tree_classifier = tree_classifier.fit(X_train, y_train)\n",
    "tree_predictions = tree_classifier.predict(X_test)\n",
    "\n",
    "print(\"Using gender as the only feature, the accuracy of the classifier is:\")\n",
    "print(accuracy_score(predictions, y_test))\n",
    "print(\"\")"
   ]
  },
  {
   "cell_type": "code",
   "execution_count": null,
   "metadata": {
    "collapsed": true
   },
   "outputs": [],
   "source": [
    "#0.647593097184  0.627611262489  0.6148955495    0.632152588556  0.628519527702\n",
    "\n",
    "#0.654859218892  0.639418710263  0.653950953678  0.650317892825  0.643051771117\n",
    "\n",
    "#0.644868301544  0.645776566757  0.643960036331  0.637602179837  0.628519527702"
   ]
  },
  {
   "cell_type": "markdown",
   "metadata": {},
   "source": [
    "After finding the average of the accuracy per feature in the dataset I determined that age is the determining factor for surivival during the Titanic crash."
   ]
  },
  {
   "cell_type": "markdown",
   "metadata": {},
   "source": [
    "# Conclusion"
   ]
  },
  {
   "cell_type": "markdown",
   "metadata": {},
   "source": [
    "After testing 3 different classifiers on this data set, I determined that the decision tree classifier was the most accurate. In comparison, the Kneighbors classifier was all over the place as far as accuracy goes; the random forest classifier, however, came in a close second.\n",
    "After training the data set (using the decision tree classifier) the prediction were around 79 percent accurate.\n",
    "Lastly, I found the most influential factor in survival during the titanic crash was age. I am not too surprised by this result. I hypothesized that the most determining factor of survival would be age or gender. My assumption would be that they evacuated the women and children first, prioritizing the children. I think that in all of the chaos class may have been the least of anyone’s worries. Aside from the crew (I would assume most crew was aiding in the evacuation) differentiating people by class would be near impossible when everyone is clustered together trying to get off the boat."
   ]
  }
 ],
 "metadata": {
  "anaconda-cloud": {},
  "kernelspec": {
   "display_name": "Python [Root]",
   "language": "python",
   "name": "Python [Root]"
  },
  "language_info": {
   "codemirror_mode": {
    "name": "ipython",
    "version": 3
   },
   "file_extension": ".py",
   "mimetype": "text/x-python",
   "name": "python",
   "nbconvert_exporter": "python",
   "pygments_lexer": "ipython3",
   "version": "3.5.2"
  }
 },
 "nbformat": 4,
 "nbformat_minor": 0
}
