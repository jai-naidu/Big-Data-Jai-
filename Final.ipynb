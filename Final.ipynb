{
 "cells": [
  {
   "cell_type": "markdown",
   "metadata": {},
   "source": [
    "# Analyzing the Effects of a Student's Circusmtances and Decisions on His or Her Grades\n",
    "\n",
    "##Jai Naidu\n",
    "##1/17/17\n",
    "##Period 8\n",
    "##Ms. Anderson, Lab 3\n",
    "##Doc: https://www.kaggle.com/uciml/student-alcohol-consumption"
   ]
  },
  {
   "cell_type": "markdown",
   "metadata": {},
   "source": [
    "# Introduction"
   ]
  },
  {
   "cell_type": "markdown",
   "metadata": {},
   "source": [
    "The purpose of this lab to is to answer the overarching question: How do circumstances and decisions affect a student’s grades? Using the decision trees machine learning algorithm, I aim to predict a student’s grades based on several different circumstances (family relationship, tutoring, etc.) and decisions (alcohol consumption, study time, etc.). After doing so, I will evaluate the how influential each decision or circumstance is on the student’s grades. This will enable me to determine if a student can overcome his circumstances, and how hard or easy it is to do so based on his decisions."
   ]
  },
  {
   "cell_type": "code",
   "execution_count": 9,
   "metadata": {
    "collapsed": true
   },
   "outputs": [],
   "source": [
    "import scipy.stats as st\n",
    "import matplotlib.pyplot as plt\n",
    "%matplotlib inline"
   ]
  },
  {
   "cell_type": "code",
   "execution_count": 10,
   "metadata": {
    "collapsed": false,
    "scrolled": true
   },
   "outputs": [
    {
     "name": "stdout",
     "output_type": "stream",
     "text": [
      "(395, 11)\n",
      "[[  2.   0.   1. ...,   1.   3.   6.]\n",
      " [  2.   0.   1. ...,   1.   3.   4.]\n",
      " [  2.   3.   0. ...,   3.   3.  10.]\n",
      " ..., \n",
      " [  1.   3.   1. ...,   3.   3.   3.]\n",
      " [  1.   0.   1. ...,   4.   5.   0.]\n",
      " [  1.   0.   1. ...,   3.   5.   5.]]\n",
      "[ 0.  0.  0.  1.  0.  1.  1.  0.  1.  1.  0.  1.  1.  1.  1.  1.  1.  0.\n",
      "  0.  0.  1.  1.  1.  1.  0.  0.  1.  1.  1.  1.  1.  1.  1.  1.  1.  0.\n",
      "  1.  1.  1.  1.  1.  1.  1.  1.  0.  0.  1.  1.  1.  0.  1.  1.  0.  1.\n",
      "  1.  0.  1.  1.  0.  1.  1.  1.  0.  0.  0.  1.  1.  0.  0.  1.  1.  0.\n",
      "  0.  1.  1.  0.  0.  1.  0.  0.  1.  1.  0.  1.  0.  0.  0.  1.  0.  0.\n",
      "  0.  1.  0.  0.  1.  0.  1.  0.  1.  0.  0.  1.  1.  0.  1.  1.  0.  1.\n",
      "  1.  1.  1.  0.  1.  1.  0.  1.  1.  1.  0.  1.  1.  1.  1.  1.  0.  1.\n",
      "  1.  0.  0.  1.  0.  0.  1.  1.  0.  0.  0.  0.  1.  1.  0.  0.  1.  1.\n",
      "  0.  1.  0.  1.  0.  0.  0.  1.  0.  0.  1.  0.  1.  0.  1.  1.  0.  0.\n",
      "  0.  0.  0.  1.  0.  1.  0.  1.  0.  1.  0.  0.  0.  0.  1.  0.  0.  1.\n",
      "  0.  1.  1.  0.  1.  1.  1.  1.  0.  0.  1.  0.  0.  0.  1.  1.  1.  0.\n",
      "  1.  0.  1.  0.  0.  0.  1.  0.  0.  1.  0.  0.  0.  1.  1.  0.  0.  1.\n",
      "  0.  0.  0.  0.  0.  0.  1.  1.  1.  0.  1.  1.  0.  1.  1.  1.  0.  1.\n",
      "  0.  0.  1.  1.  1.  0.  1.  1.  0.  1.  0.  1.  1.  0.  0.  1.  0.  0.\n",
      "  0.  0.  1.  0.  1.  1.  1.  0.  1.  0.  1.  0.  0.  1.  0.  1.  0.  0.\n",
      "  0.  1.  1.  1.  0.  1.  0.  0.  0.  0.  0.  0.  1.  0.  1.  1.  1.  1.\n",
      "  1.  1.  1.  1.  1.  1.  1.  1.  0.  0.  1.  1.  1.  0.  1.  1.  1.  1.\n",
      "  1.  0.  1.  0.  0.  1.  1.  1.  1.  1.  0.  0.  0.  1.  1.  0.  1.  1.\n",
      "  1.  1.  1.  0.  0.  1.  0.  1.  0.  0.  0.  1.  1.  0.  1.  0.  1.  0.\n",
      "  1.  0.  0.  1.  1.  0.  1.  1.  0.  1.  0.  0.  1.  0.  1.  1.  0.  1.\n",
      "  1.  1.  0.  1.  1.  0.  1.  0.  0.  1.  0.  1.  1.  0.  1.  0.  1.  0.\n",
      "  1.  0.  1.  0.  0.  0.  0.  0.  0.  0.  0.  0.  0.  1.  0.  0.  0.]\n"
     ]
    }
   ],
   "source": [
    "import numpy as np\n",
    "#open the file\n",
    "raw_data = open(\"studentmath.csv\")\n",
    "# load the CSV file as a numpy matrix\n",
    "dataset = np.loadtxt(raw_data, delimiter=\",\")\n",
    "#'shape' is the dimensions of the matrix\n",
    "print(dataset.shape)\n",
    "# separate the data from the target attributes\n",
    "X = dataset[:,0:10]\n",
    "y = dataset[:,10]\n",
    "print(X)\n",
    "print(y)"
   ]
  },
  {
   "cell_type": "code",
   "execution_count": 23,
   "metadata": {
    "collapsed": false
   },
   "outputs": [
    {
     "name": "stdout",
     "output_type": "stream",
     "text": [
      "0.545454545455\n"
     ]
    }
   ],
   "source": [
    "from sklearn import tree\n",
    "import random\n",
    "from sklearn.cross_validation import train_test_split\n",
    "X_train, X_test, y_train, y_test=train_test_split(X,y,test_size=.5)\n",
    "\n",
    "my_classifier=tree.DecisionTreeClassifier();\n",
    "my_classifier=my_classifier.fit(X_train, y_train)\n",
    "predictions=my_classifier.predict(X_test)\n",
    "\n",
    "from sklearn.metrics import accuracy_score\n",
    "print(accuracy_score(predictions, y_test))"
   ]
  },
  {
   "cell_type": "markdown",
   "metadata": {},
   "source": [
    "Doc: http://machinelearningmastery.com/overfitting-and-underfitting-with-machine-learning-algorithms/\n",
    "Doc: http://www.jmlr.org/proceedings/papers/v28/bi13.pdf\n",
    "Doc:http://machinelearningmastery.com/tactics-to-combat-imbalanced-classes-in-your-machine-learning-dataset/\n",
    "\n",
    "After initially uploading the file and tailoring it to fit a machine learning algorithm, I did a few accuracy tests using the machine learning algorithms that we have learnt. My initial accuracy tests were undesirable. My accuracy ranged from 10 to 20 percent. With this kind of accuracy, the code really won't tell us anything useful. First of all, I identified the issue as overfitting. The raw dataset I was given (after changing strings to integers) had a lot of \"noise\"; data that fluctuates from the general patter of the data. So I tried several methods to improve accuracy. My first thought was to reduce the amount of features. Some of the features were unhelpful, and in most cases, had no correlation to the grades, therefore, lowering the accuracy of the machine learning algorithm. I got rid of several of the features including, location, age, gender, etc. After doing so the accuracy percentage benefitted minimally (up to around 25 percent accuracy). Regardless, the percentage did go up, so I left the features as they were (10 features). Upon gaining more understanding of machine learning, it was made clear to me that the bulk of the issue was in the labels. The output of the algorithm could have been anywhere from 1 to 20. After doing some research on how to solve an issue like this, I came to the collusion that reducing the labels was my best bet. While I did find other methods to effectively use several labels (exploitation of label correlations and label hierarchy), these concepts were too complicated to apply within a week or two with minimal coding experience. So I reduced the amount of labels, first down to 10, then down to 3, and finally down to 2. Every time I lowered the amount of labels the accuracy benefitted greatly. From an unusable 12 percent accuracy, I was able to get to around a 50-60 percent accuracy consistently. While the accuracy is still undesirable, it is usable. More importantly, it tells us something about the data. Cleary, the data doesn't have a lot of correlation. Given the features that I utilized (educational support, family relationship, study time, absences, failures, health, motivation, free time, and alcohol consumption) could almost all be effected by circumstance, this accuracy tells us that a student's circumstance may not affect their performance all that much. However, this not a 100 percent concrete conclusion. In order to prove this conclusion, a larger amount of data, and a larger variety of features would be necessary. However, ultimately, I continued analyzing this data set since the accuracy of the machine learning algorithm was usable (keeping in mind that my findings are not completely accurate)."
   ]
  },
  {
   "cell_type": "code",
   "execution_count": 183,
   "metadata": {
    "collapsed": false
   },
   "outputs": [
    {
     "name": "stdout",
     "output_type": "stream",
     "text": [
      "[ 0.]\n"
     ]
    },
    {
     "name": "stderr",
     "output_type": "stream",
     "text": [
      "C:\\Users\\jai\\Anaconda3\\lib\\site-packages\\sklearn\\utils\\validation.py:386: DeprecationWarning: Passing 1d arrays as data is deprecated in 0.17 and willraise ValueError in 0.19. Reshape your data either using X.reshape(-1, 1) if your data has a single feature or X.reshape(1, -1) if it contains a single sample.\n",
      "  DeprecationWarning)\n"
     ]
    }
   ],
   "source": [
    "import random\n",
    "\n",
    "\n",
    "X_train, X_test, y_train, y_test=train_test_split(X,y,test_size=.5)\n",
    "\n",
    "from sklearn import tree\n",
    "tree_classifier = tree.DecisionTreeClassifier();\n",
    "tree_classifier = tree_classifier.fit(X_train, y_train)\n",
    "tree_predictions = tree_classifier.predict(X_test)\n",
    "\n",
    "from sklearn.metrics import accuracy_score\n",
    "\n",
    "clf = tree.DecisionTreeClassifier()\n",
    "clf = clf.fit(X,y)\n",
    "\n",
    "print(clf.predict([2,2,1,0,1,1,3,3,51,50]))"
   ]
  },
  {
   "cell_type": "markdown",
   "metadata": {},
   "source": [
    "I ran some breif tests to see how often the code would mess up here. "
   ]
  },
  {
   "cell_type": "code",
   "execution_count": 12,
   "metadata": {
    "collapsed": true
   },
   "outputs": [],
   "source": [
    "from sklearn import datasets\n",
    "from sklearn import tree\n",
    "from sklearn import neighbors\n",
    "from sklearn import ensemble\n",
    "import random\n",
    "import statistics as stat\n",
    "from sklearn.cross_validation import train_test_split\n",
    "from sklearn.metrics import accuracy_score"
   ]
  },
  {
   "cell_type": "code",
   "execution_count": 25,
   "metadata": {
    "collapsed": false
   },
   "outputs": [
    {
     "name": "stdout",
     "output_type": "stream",
     "text": [
      "Average Accuracy Percentage Using study time as the only determining factor:\n",
      "\tDecision Tree: 55.26%\n",
      "Average Accuracy Percentage Using failures as the only determining factor\n",
      "\tDecision Tree: 63.86%\n",
      "Average Accuracy Percentage Using paid educational support as the only determining factor\n",
      "\tDecision Tree: 50.62%\n",
      "Average Accuracy Percentage Using Extracurriculars Intake as the only determining factor\n",
      "\tDecision Tree: 50.58%\n",
      "Average Accuracy Percentage Using Motivation as the only determining factor\n",
      "\tDecision Tree: 56.39%\n",
      "Average Accuracy Percentage Using Family Relationship as the only determining factor\n",
      "\tDecision Tree: 48.56%\n",
      "Average Accuracy Percentage Using free time as the only determining factor\n",
      "\tDecision Tree: 52.18%\n",
      "Average Accuracy Percentage Using Alcohol Intake as the only determining factor\n",
      "\tDecision Tree: 55.76%\n",
      "Average Accuracy Percentage Using health as the only determining factor\n",
      "\tDecision Tree: 51.55%\n",
      "Average Accuracy Percentage Using absences as the only determining factor\n",
      "\tDecision Tree: 51.52%\n"
     ]
    }
   ],
   "source": [
    "#Doc: Jacob Richey\n",
    "\n",
    "forgraph = []\n",
    "\n",
    "X = dataset[:,0:10]\n",
    "y = dataset[:,10]\n",
    "classifieraccuracy = []\n",
    "\n",
    "for i in range(0, 100):\n",
    "    X_train, X_test, y_train, y_test = train_test_split(X, y, test_size = 0.25)\n",
    "    my_classifier = tree.DecisionTreeClassifier()\n",
    "    my_classifier = my_classifier.fit(X_train, y_train)\n",
    "    predictions = my_classifier.predict(X_test)\n",
    "    classifieraccuracy.append(accuracy_score(predictions, y_test)*100)\n",
    "    \n",
    "print(\"Average Accuracy Percentage Using study time as the only determining factor:\")\n",
    "print(\"\\tDecision Tree:\", str(round(stat.mean(classifieraccuracy), 2))+\"%\")\n",
    "\n",
    "X = dataset[:,1:2]\n",
    "y = dataset[:,10]\n",
    "classifieraccuracy = []\n",
    "\n",
    "for i in range(0, 100):\n",
    "    X_train, X_test, y_train, y_test = train_test_split(X, y, test_size = 0.25)\n",
    "    my_classifier = tree.DecisionTreeClassifier()\n",
    "    my_classifier = my_classifier.fit(X_train, y_train)\n",
    "    predictions = my_classifier.predict(X_test)\n",
    "    classifieraccuracy.append(accuracy_score(predictions, y_test)*100)\n",
    "    \n",
    "print(\"Average Accuracy Percentage Using failures as the only determining factor\")\n",
    "print(\"\\tDecision Tree:\", str(round(stat.mean(classifieraccuracy), 2))+\"%\")\n",
    "\n",
    "X = dataset[:,2:3]\n",
    "y = dataset[:,10]\n",
    "classifieraccuracy = []\n",
    "\n",
    "for i in range(0, 100):\n",
    "    X_train, X_test, y_train, y_test = train_test_split(X, y, test_size = 0.25)\n",
    "    my_classifier = tree.DecisionTreeClassifier()\n",
    "    my_classifier = my_classifier.fit(X_train, y_train)\n",
    "    predictions = my_classifier.predict(X_test)\n",
    "    classifieraccuracy.append(accuracy_score(predictions, y_test)*100)\n",
    "    \n",
    "print(\"Average Accuracy Percentage Using paid educational support as the only determining factor\")\n",
    "print(\"\\tDecision Tree:\", str(round(stat.mean(classifieraccuracy), 2))+\"%\")\n",
    "\n",
    "X = dataset[:,3:4]\n",
    "y = dataset[:,10]\n",
    "classifieraccuracy = []\n",
    "\n",
    "for i in range(0, 100):\n",
    "    X_train, X_test, y_train, y_test = train_test_split(X, y, test_size = 0.25)\n",
    "    my_classifier = tree.DecisionTreeClassifier()\n",
    "    my_classifier = my_classifier.fit(X_train, y_train)\n",
    "    predictions = my_classifier.predict(X_test)\n",
    "    classifieraccuracy.append(accuracy_score(predictions, y_test)*100)\n",
    "    \n",
    "print(\"Average Accuracy Percentage Using Extracurriculars Intake as the only determining factor\")\n",
    "print(\"\\tDecision Tree:\", str(round(stat.mean(classifieraccuracy), 2))+\"%\")\n",
    "\n",
    "X = dataset[:,4:5]\n",
    "y = dataset[:,10]\n",
    "classifieraccuracy = []\n",
    "\n",
    "for i in range(0, 100):\n",
    "    X_train, X_test, y_train, y_test = train_test_split(X, y, test_size = 0.25)\n",
    "    my_classifier = tree.DecisionTreeClassifier()\n",
    "    my_classifier = my_classifier.fit(X_train, y_train)\n",
    "    predictions = my_classifier.predict(X_test)\n",
    "    classifieraccuracy.append(accuracy_score(predictions, y_test)*100)\n",
    "    \n",
    "print(\"Average Accuracy Percentage Using Motivation as the only determining factor\")\n",
    "print(\"\\tDecision Tree:\", str(round(stat.mean(classifieraccuracy), 2))+\"%\")\n",
    "\n",
    "X = dataset[:,5:6]\n",
    "y = dataset[:,10]\n",
    "classifieraccuracy = []\n",
    "\n",
    "for i in range(0, 100):\n",
    "    X_train, X_test, y_train, y_test = train_test_split(X, y, test_size = 0.25)\n",
    "    my_classifier = tree.DecisionTreeClassifier()\n",
    "    my_classifier = my_classifier.fit(X_train, y_train)\n",
    "    predictions = my_classifier.predict(X_test)\n",
    "    classifieraccuracy.append(accuracy_score(predictions, y_test)*100)\n",
    "    \n",
    "print(\"Average Accuracy Percentage Using Family Relationship as the only determining factor\")\n",
    "print(\"\\tDecision Tree:\", str(round(stat.mean(classifieraccuracy), 2))+\"%\")\n",
    "\n",
    "X = dataset[:,6:7]\n",
    "y = dataset[:,10]\n",
    "classifieraccuracy = []\n",
    "\n",
    "for i in range(0, 100):\n",
    "    X_train, X_test, y_train, y_test = train_test_split(X, y, test_size = 0.25)\n",
    "    my_classifier = tree.DecisionTreeClassifier()\n",
    "    my_classifier = my_classifier.fit(X_train, y_train)\n",
    "    predictions = my_classifier.predict(X_test)\n",
    "    classifieraccuracy.append(accuracy_score(predictions, y_test)*100)\n",
    "    \n",
    "print(\"Average Accuracy Percentage Using free time as the only determining factor\")\n",
    "print(\"\\tDecision Tree:\", str(round(stat.mean(classifieraccuracy), 2))+\"%\")\n",
    "\n",
    "X = dataset[:,7:8]\n",
    "y = dataset[:,10]\n",
    "classifieraccuracy = []\n",
    "\n",
    "for i in range(0, 100):\n",
    "    X_train, X_test, y_train, y_test = train_test_split(X, y, test_size = 0.25)\n",
    "    my_classifier = tree.DecisionTreeClassifier()\n",
    "    my_classifier = my_classifier.fit(X_train, y_train)\n",
    "    predictions = my_classifier.predict(X_test)\n",
    "    classifieraccuracy.append(accuracy_score(predictions, y_test)*100)\n",
    "    \n",
    "print(\"Average Accuracy Percentage Using Alcohol Intake as the only determining factor\")\n",
    "print(\"\\tDecision Tree:\", str(round(stat.mean(classifieraccuracy), 2))+\"%\")\n",
    "\n",
    "X = dataset[:,8:9]\n",
    "y = dataset[:,10]\n",
    "classifieraccuracy = []\n",
    "\n",
    "for i in range(0, 100):\n",
    "    X_train, X_test, y_train, y_test = train_test_split(X, y, test_size = 0.25)\n",
    "    my_classifier = tree.DecisionTreeClassifier()\n",
    "    my_classifier = my_classifier.fit(X_train, y_train)\n",
    "    predictions = my_classifier.predict(X_test)\n",
    "    classifieraccuracy.append(accuracy_score(predictions, y_test)*100)\n",
    "    \n",
    "print(\"Average Accuracy Percentage Using health as the only determining factor\")\n",
    "print(\"\\tDecision Tree:\", str(round(stat.mean(classifieraccuracy), 2))+\"%\")\n",
    "\n",
    "X = dataset[:,9:10]\n",
    "y = dataset[:,10]\n",
    "classifieraccuracy = []\n",
    "\n",
    "for i in range(0, 100):\n",
    "    X_train, X_test, y_train, y_test = train_test_split(X, y, test_size = 0.25)\n",
    "    my_classifier = tree.DecisionTreeClassifier()\n",
    "    my_classifier = my_classifier.fit(X_train, y_train)\n",
    "    predictions = my_classifier.predict(X_test)\n",
    "    classifieraccuracy.append(accuracy_score(predictions, y_test)*100)\n",
    "    \n",
    "print(\"Average Accuracy Percentage Using absences as the only determining factor\")\n",
    "print(\"\\tDecision Tree:\", str(round(stat.mean(classifieraccuracy), 2))+\"%\")"
   ]
  },
  {
   "cell_type": "code",
   "execution_count": 24,
   "metadata": {
    "collapsed": false
   },
   "outputs": [
    {
     "data": {
      "image/png": "[encoded data removed]",
      "text/plain": [
       "<matplotlib.figure.Figure at 0x25c15e32898>"
      ]
     },
     "metadata": {},
     "output_type": "display_data"
    }
   ],
   "source": [
    "import matplotlib.pyplot as plt\n",
    "\n",
    "importance = [55.3, 64.02, 49.33, 51.2, 55.69, 48.7, 51.96, 55.78, 50.64, 51.71]\n",
    "numbers = [1, 2, 3, 4, 5, 6, 7, 8, 9, 10]\n",
    "\n",
    "plt.title(\"Percent of Accuracy of Machine Learning Algorithm Using each Individual Feature Alone\")\n",
    "plt.xlabel(\"Feature\")\n",
    "plt.ylabel(\"Percent of Accuracy\")\n",
    "plt.bar(numbers, importance, color = 'r')\n",
    "plt.show()"
   ]
  },
  {
   "cell_type": "markdown",
   "metadata": {},
   "source": [
    "For reference:\n",
    "1 = Study Time\n",
    "2 = Failures\n",
    "3 = Paid Educational Support\n",
    "4 = Extracurricular Activities\n",
    "5 = Motivation (Desire to go to college)\n",
    "6 = Family Relationship\n",
    "7 = Free Time\n",
    "8 = Alcohol Consumption on the Weekends\n",
    "9 = Health (How healthy the student is)\n",
    "10 = Absences"
   ]
  },
  {
   "cell_type": "markdown",
   "metadata": {},
   "source": [
    "NOTE: My accuracy using only failures was initially the lowest, however, I found a small error in the code that changed the data.\n",
    "\n",
    "The results that I ended up with were more comprehensive than I expected from a 50-60 percent accurate machine learning algorithm. For clarity, I split the data into a few tiers of accuracy percentage (or \"importance\"). First, tier 1: according to the results, the most determining factor of a student’s grade is failures. I used this feature mostly to test the accuracy of the data because it only makes sense that a student that fails his classes has bad grades. Secondly, tier 2: study time, motivation, and alcohol consumption are a little less, but still very \"important\" or influential factors in determining a student’s grades. This doesn't come as much of a surprise. According to the results, the more you study the better your grades (this is pretty self-explanatory); the less you drink the better your grades are (alcohol may serve as a distraction from grades); the more motivated you are the better your grades are (student's need good grades to get into college, so the correlation here is clear). Before I get into the third tier of \"importance\", it is important to note that tier 2 and 3 don't vary much in accuracy percentages. The tier 3 determining factors of a student’s grades are: paid educational support, extracurricular activities, family relationship, free time, health, and absences. In this case, paid educational support and family relationship are least \"important\". The rest of the tier 3 factors follow in a relative close second as the least \"important\" deciding factor of a student's grades. All in all, this data tells us a few interesting things. We must first keep in mind that these determine factors of grades are all fairly similar in \"importance\" OVERALL. But we are taking a closer, more analytical look. Generally, speaking, the data tells us that circumstance is not important in determining a student’s grades. For one, look at the contrast between paid education support and the tier 1 \"importance\" factors. The data suggests that tutoring may not be as important as people believe; rather, it is mostly up to the student to get good grades. It is up to the student to be motivated, study and lot, and avoid drugs. Another thing that stood out was the fact that family relationship wasn't as \"important\" as other things. While it still affects a student’s grades it isn't as important as tier 1 factors. Speaking for the tier 2 and high tier 3 factors, these factors lie in the center of the data, they are not outliers, so there is not much to say about them. All we can say, is that they are important to determining a student's grades, however, maybe not quite as much as tier 1 factors."
   ]
  },
  {
   "cell_type": "markdown",
   "metadata": {},
   "source": [
    "# Conclusion"
   ]
  },
  {
   "cell_type": "markdown",
   "metadata": {},
   "source": [
    "For the most part, we were able to fish out an answer from the data. The data provided us with an overarching answer to our question. It is important, however, to notice that in order to derive this answer we had to look at the data under a microscope. The variations in \"importance\" don't vary all that much implying that all of these circumstances and decisions are similarly impactful to a student's grades, generally speaking. However, yes, circumstances do affect a student's grades, however, a student's motivation, study time, and ability to avoid drugs affect his or her grades more. In other words, if the student is willing to be disciplined, he can overcome his circumstances. Since, motivation, study time, and the ability to stay away from drugs have only a 2 percent higher accuracy (when the individual factor is used to calculate accuracy) than family relationship and paid education support, the data suggests that it may not be easy to overcome circumstances, however, it is quite possible."
   ]
  }
 ],
 "metadata": {
  "anaconda-cloud": {},
  "kernelspec": {
   "display_name": "Python [Root]",
   "language": "python",
   "name": "Python [Root]"
  },
  "language_info": {
   "codemirror_mode": {
    "name": "ipython",
    "version": 3
   },
   "file_extension": ".py",
   "mimetype": "text/x-python",
   "name": "python",
   "nbconvert_exporter": "python",
   "pygments_lexer": "ipython3",
   "version": "3.5.2"
  }
 },
 "nbformat": 4,
 "nbformat_minor": 0
}
